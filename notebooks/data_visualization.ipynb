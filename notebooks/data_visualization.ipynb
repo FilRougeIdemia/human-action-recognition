{
 "cells": [
  {
   "cell_type": "markdown",
   "metadata": {},
   "source": [
    "# **Visualization of the NTU RGB+D Action Recognition Dataset**"
   ]
  },
  {
   "cell_type": "markdown",
   "metadata": {},
   "source": [
    "___\n",
    "___"
   ]
  },
  {
   "cell_type": "markdown",
   "metadata": {},
   "source": [
    "## **1. Initialization**"
   ]
  },
  {
   "cell_type": "markdown",
   "metadata": {},
   "source": [
    "### *1.1. Imports*"
   ]
  },
  {
   "cell_type": "code",
   "execution_count": 1,
   "metadata": {},
   "outputs": [],
   "source": [
    "from PIL import Image, ImageDraw\n",
    "from scipy.spatial.transform import Rotation as R\n",
    "from tqdm import tqdm\n",
    "\n",
    "import matplotlib.pyplot as plt\n",
    "import numpy as np\n",
    "import os\n",
    "\n",
    "from torch.utils.data import Dataset\n",
    "\n",
    "import torch"
   ]
  },
  {
   "cell_type": "code",
   "execution_count": 2,
   "metadata": {},
   "outputs": [],
   "source": [
    "# to fill the requirement.txt file we use the following line of code:\n",
    "# import session_info\n",
    "# session_info.show()"
   ]
  },
  {
   "cell_type": "code",
   "execution_count": 3,
   "metadata": {},
   "outputs": [
    {
     "name": "stdout",
     "output_type": "stream",
     "text": [
      "device: cuda\n"
     ]
    }
   ],
   "source": [
    "# setting device on GPU if available, else CPU\n",
    "device = torch.device('cuda' if torch.cuda.is_available() else 'cpu')\n",
    "print(\"device: {}\".format(device))"
   ]
  },
  {
   "cell_type": "markdown",
   "metadata": {},
   "source": [
    "### *1.2. Data Loading*"
   ]
  },
  {
   "cell_type": "code",
   "execution_count": 4,
   "metadata": {},
   "outputs": [],
   "source": [
    "data2D_dir = \"data/nturgbd60_skeletons_2D/\"\n",
    "data3D_dir = \"data/nturgbd60_skeletons_3D/\"\n",
    "\n",
    "data2D_files = os.listdir(data2D_dir)\n",
    "data3D_files = os.listdir(data3D_dir)"
   ]
  },
  {
   "cell_type": "code",
   "execution_count": 5,
   "metadata": {},
   "outputs": [],
   "source": [
    "with open(\"data/actions.txt\", 'r') as actions_file:\n",
    "    actions = [line.replace('\\n', '') for line in actions_file.readlines()]\n",
    "    actions_file.close()"
   ]
  },
  {
   "cell_type": "code",
   "execution_count": 6,
   "metadata": {},
   "outputs": [],
   "source": [
    "classes = [i for i in range(60)]\n",
    "# for i,elem in enumerate(classes):\n",
    "#    print(\"class {} : {}\".format(i, actions[elem]))"
   ]
  },
  {
   "cell_type": "code",
   "execution_count": 7,
   "metadata": {},
   "outputs": [],
   "source": [
    "class HumanActionDataset(Dataset):\n",
    "\n",
    "    \"\"\"\n",
    "    inputs:\n",
    "    - (str) data_type: type of the dataset to build either '2D' or '3D'.\n",
    "    - (str) data_dir: path to the data folder of the data (either 2D or 3D) to consider.\n",
    "    - (list) data_files: name of the files in the folder to consider.\n",
    "    - (list) classes: id of the classes to consider.\n",
    "    \"\"\"\n",
    "\n",
    "    def __init__(self, data_type:str='2D', data_dir:str=data2D_dir, data_files:list=data2D_files, classes:list=classes):\n",
    "        self.data_type = data_type\n",
    "        self.data_dir = data_dir\n",
    "        self.data_files = [data_file for data_file in data_files if int(data_file[17:-4])-1 in classes]\n",
    "        self.classes = classes\n",
    "\n",
    "    def __len__(self):\n",
    "        return len(self.data_files)\n",
    "\n",
    "    def __getitem__(self, idx):\n",
    "        tensor = torch.Tensor(np.load(self.data_dir + self.data_files[idx]))\n",
    "        if self.data_type == '2D':\n",
    "            tensor = tensor.reshape((tensor.shape[0], 50))\n",
    "        else:\n",
    "            tensor = tensor.reshape((tensor.shape[0], 75))\n",
    "        label = self.classes.index(int(self.data_files[idx][17:-4])-1)\n",
    "        return (tensor, label)"
   ]
  },
  {
   "cell_type": "code",
   "execution_count": 8,
   "metadata": {},
   "outputs": [],
   "source": [
    "HAD2D = HumanActionDataset('2D', data2D_dir, data2D_files, classes)\n",
    "HAD3D = HumanActionDataset('3D', data3D_dir, data3D_files, classes)"
   ]
  },
  {
   "cell_type": "markdown",
   "metadata": {},
   "source": [
    "___"
   ]
  },
  {
   "cell_type": "markdown",
   "metadata": {},
   "source": [
    "## **2. Create Images**"
   ]
  },
  {
   "cell_type": "markdown",
   "metadata": {},
   "source": [
    "Reminder:\n",
    "\n",
    "![skeleton](./assets/skeleton.png)"
   ]
  },
  {
   "cell_type": "code",
   "execution_count": 9,
   "metadata": {},
   "outputs": [],
   "source": [
    "# sequences of joints to display the members of the squeletons (add +1 to find the corresponding joints in the above graphic)\n",
    "\n",
    "bust_joints = [0, 1, 20, 2, 3]\n",
    "arm_joints = [23, 24, 11, 10, 9, 8, 20, 4, 5, 6, 7, 22, 21]\n",
    "leg_joints = [19, 18, 17, 16, 0, 12, 13, 14, 15]\n",
    "\n",
    "body_parts = [bust_joints, arm_joints, leg_joints]"
   ]
  },
  {
   "cell_type": "code",
   "execution_count": 10,
   "metadata": {},
   "outputs": [],
   "source": [
    "def get_image_sequence(i, dataset2D=HAD2D, dataset3D=HAD3D):\n",
    "    \n",
    "    \"\"\"\n",
    "    inputs:\n",
    "    * (int) i : index of the sample to consider\n",
    "    * dataset2D : dataset with the pixel information\n",
    "    * dataset3D : dataset with the space information (if not None we will consider the depth in the generated images)\n",
    "\n",
    "    output:\n",
    "    * output : sequence of images with, eventually, depth\n",
    "    \"\"\"\n",
    "    \n",
    "    tensor2D = dataset2D[i][0]\n",
    "    output = np.zeros((tensor2D.shape[0],25,3))\n",
    "    z_sequence = np.zeros((tensor2D.shape[0],25))\n",
    "\n",
    "    if dataset3D != None:\n",
    "        tensor3D = dataset3D[i][0]\n",
    "        z_sequence = np.array([[tensor3D[k,3*i+2] for i in range(25)] for k in range(tensor3D.shape[0])])     \n",
    "    \n",
    "    for m in range(tensor2D.shape[0]):\n",
    "        for n in range(25):\n",
    "            x = tensor2D[m,2*n].item()\n",
    "            y = tensor2D[m,2*n+1].item()\n",
    "            x = min(max(0,int(x)),1920)-1\n",
    "            y = min(max(0,int(y)),1080)-1\n",
    "            z = z_sequence[m,n].item()\n",
    "            output[m,n] = [x,y,z]\n",
    "    \n",
    "    return output"
   ]
  },
  {
   "cell_type": "code",
   "execution_count": 11,
   "metadata": {},
   "outputs": [],
   "source": [
    "def get_image_sequence_normalize(i, dataset2D=HAD2D, dataset3D=HAD3D):\n",
    "    \"\"\"\n",
    "    get sequence of images with, eventually, depth but also normalize the depth between 0 and 1\n",
    "    \"\"\"\n",
    "    image_sequence = get_image_sequence(i, dataset2D, dataset3D)\n",
    "    mini = image_sequence[:,:,2].min()\n",
    "    maxi = image_sequence[:,:,2].max()\n",
    "    if mini != maxi:\n",
    "        image_sequence[:,:,2] = (image_sequence[:,:,2]-mini)/(maxi-mini)\n",
    "    return image_sequence"
   ]
  },
  {
   "cell_type": "code",
   "execution_count": 12,
   "metadata": {},
   "outputs": [],
   "source": [
    "def create_image(image_frame):\n",
    "\n",
    "    img = Image.new(\"RGB\", (1920,1080 ), color=\"black\")\n",
    "    for body_part in body_parts:\n",
    "        for i in range(len(body_part)-1):\n",
    "            a = image_frame[body_part[i]]\n",
    "            b = image_frame[body_part[i+1]]-a\n",
    "            n = 10\n",
    "            line = np.array([a+(i/n)*b for i in range(n)])\n",
    "            for i in range(len(line)-1):\n",
    "                x1,y1,z = line[i]\n",
    "                x2,y2,_ = line[i+1]\n",
    "                draw = ImageDraw.Draw(img)\n",
    "                color = tuple((int(255*z),0,int(255*(1-z))))\n",
    "                draw.line((x1,y1,x2,y2), fill=color,width=5)\n",
    "    return img"
   ]
  },
  {
   "cell_type": "code",
   "execution_count": 13,
   "metadata": {},
   "outputs": [
    {
     "data": {
      "image/png": "[encoded data removed]",
      "text/plain": [
       "<PIL.Image.Image image mode=RGB size=1920x1080 at 0x276BF7BE6A0>"
      ]
     },
     "execution_count": 13,
     "metadata": {},
     "output_type": "execute_result"
    }
   ],
   "source": [
    "# example (first element of the dataset)\n",
    "create_image(get_image_sequence_normalize(15)[0,:,:])"
   ]
  },
  {
   "cell_type": "code",
   "execution_count": 14,
   "metadata": {},
   "outputs": [],
   "source": [
    "def create_gif(i, filepath, dataset2D=HAD2D, dataset3D=HAD3D, normalize=True):\n",
    "    if normalize:\n",
    "        image_sequence = get_image_sequence_normalize(i, dataset2D, dataset3D)\n",
    "    else:\n",
    "        image_sequence = get_image_sequence(i, dataset2D, dataset3D)\n",
    "    seq = [create_image(frame) for frame in image_sequence]\n",
    "    seq[0].save(filepath, save_all=True, append_images=seq[1:])"
   ]
  },
  {
   "cell_type": "code",
   "execution_count": 15,
   "metadata": {},
   "outputs": [],
   "source": [
    "if \"gifs\" not in os.listdir(\"./data/\"):\n",
    "    os.mkdir(\"./data/gifs\")"
   ]
  },
  {
   "cell_type": "code",
   "execution_count": 19,
   "metadata": {},
   "outputs": [
    {
     "name": "stderr",
     "output_type": "stream",
     "text": [
      "100%|██████████| 565/565 [52:25<00:00,  5.57s/it]  \n"
     ]
    }
   ],
   "source": [
    "for index in tqdm(range(len(HAD2D)//100)):\n",
    "    name = data2D_files[index][:-4]\n",
    "    if name+\".gif\" not in os.listdir(\"./data/gifs\"):\n",
    "        create_gif(index, \"./data/gifs/{}.gif\".format(name))"
   ]
  },
  {
   "cell_type": "markdown",
   "metadata": {},
   "source": [
    "___\n",
    "___"
   ]
  }
 ],
 "metadata": {
  "kernelspec": {
   "display_name": "Python 3.9.15 ('idemia')",
   "language": "python",
   "name": "python3"
  },
  "language_info": {
   "codemirror_mode": {
    "name": "ipython",
    "version": 3
   },
   "file_extension": ".py",
   "mimetype": "text/x-python",
   "name": "python",
   "nbconvert_exporter": "python",
   "pygments_lexer": "ipython3",
   "version": "3.9.15"
  },
  "orig_nbformat": 4,
  "vscode": {
   "interpreter": {
    "hash": "69584c7593c8553a6eb878c549536baf582b4efc7fbb5080e5e5937f8c5bb9c8"
   }
  }
 },
 "nbformat": 4,
 "nbformat_minor": 2
}
