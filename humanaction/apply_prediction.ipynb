{
 "cells": [
  {
   "attachments": {},
   "cell_type": "markdown",
   "metadata": {},
   "source": [
    "# Apply prediction on skeleton\n",
    "\n",
    "The goal here is to use the trained model on some skeletons Idemia gave us.\n",
    "Based on demo_from_3D.py."
   ]
  },
  {
   "cell_type": "code",
   "execution_count": 2,
   "metadata": {},
   "outputs": [],
   "source": [
    "import copy\n",
    "import cv2\n",
    "import numpy as np\n",
    "import os\n",
    "\n",
    "from torch.utils.data import Dataset\n",
    "\n",
    "import torch\n",
    "import torch.nn as nn"
   ]
  },
  {
   "cell_type": "code",
   "execution_count": 3,
   "metadata": {},
   "outputs": [
    {
     "name": "stdout",
     "output_type": "stream",
     "text": [
      "device: cuda\n"
     ]
    }
   ],
   "source": [
    "# setting device on GPU if available, else CPU\n",
    "device = torch.device('cuda' if torch.cuda.is_available() else 'cpu')\n",
    "print(\"device: {}\".format(device))"
   ]
  },
  {
   "attachments": {},
   "cell_type": "markdown",
   "metadata": {},
   "source": [
    "## Constant"
   ]
  },
  {
   "cell_type": "code",
   "execution_count": 4,
   "metadata": {},
   "outputs": [
    {
     "name": "stdout",
     "output_type": "stream",
     "text": [
      "['pickup', 'throw', 'sitting down', 'standing up (from sitting position)', 'take off jacket', 'reach into pocket', 'pointing to something with finger', 'check time (from watch)', 'falling']\n",
      "9\n"
     ]
    }
   ],
   "source": [
    "classes = [5, 6, 7, 8, 14, 24, 30, 32, 42]\n",
    "classes_names = ['pickup', 'throw', 'sitting down', 'standing up (from sitting position)', 'take off jacket', 'reach into pocket', 'pointing to something with finger', 'check time (from watch)', 'falling']\n",
    "print(classes_names)\n",
    "print(len(classes_names))\n",
    "# class 0  (6) : pickup\n",
    "# class 1  (7) : throw\n",
    "# class 2  (8) : sitting down\n",
    "# class 3  (9) : standing up (from sitting position)\n",
    "# class 4 (15) : take off jacket\n",
    "# class 5 (25) : reach into pocket\n",
    "# class 6 (31) : pointing to something with finger\n",
    "# class 7 (33) : check time (from watch)\n",
    "# class 8 (43) : falling\n",
    "\n",
    "root_dir = os.path.dirname(os.getcwd())\n",
    "data_dir = root_dir + \"/data/\"\n",
    "data_skeleton_dir = data_dir + \"mmpose_ntu_3d_sample/\"\n",
    "data_skeleton_files = os.listdir(data_skeleton_dir)\n",
    "\n",
    "models_saved = os.path.join(root_dir, 'models_saved')\n"
   ]
  },
  {
   "attachments": {},
   "cell_type": "markdown",
   "metadata": {},
   "source": [
    "## Dataset loader for pytorch"
   ]
  },
  {
   "cell_type": "code",
   "execution_count": 5,
   "metadata": {},
   "outputs": [],
   "source": [
    "class HumanActionDataset(Dataset):\n",
    "\n",
    "    def __init__(self, data_dir, data_files, classes, with_depth=True):\n",
    "        self.data_dir = data_dir\n",
    "        self.data_files = [data_file for data_file in data_files if int(data_file[17:-4])-1 in classes]\n",
    "        self.classes = classes\n",
    "        self.with_depth = with_depth\n",
    "\n",
    "    def __len__(self):\n",
    "        return len(self.data_files)\n",
    "\n",
    "    def __getitem__(self, idx):\n",
    "        tensor = torch.Tensor(np.load(self.data_dir + self.data_files[idx]))\n",
    "        # if self.with_depth:\n",
    "        #     tensor[:,:,2] = 3\n",
    "        #     tensor = tensor.reshape((tensor.shape[0], 3*17))\n",
    "        # else:\n",
    "        #     tensor = torch.tensor([[tensor[i,k//2,k%2] for k in range(2*17)] for i in range(tensor.shape[0])])\n",
    "        label = self.classes.index(int(self.data_files[idx][17:-4])-1)\n",
    "        return (tensor, label)"
   ]
  },
  {
   "cell_type": "code",
   "execution_count": 6,
   "metadata": {},
   "outputs": [],
   "source": [
    "HAD = HumanActionDataset(data_skeleton_dir, data_skeleton_files, classes)"
   ]
  },
  {
   "attachments": {},
   "cell_type": "markdown",
   "metadata": {},
   "source": [
    "## Model Loading"
   ]
  },
  {
   "cell_type": "code",
   "execution_count": 7,
   "metadata": {},
   "outputs": [],
   "source": [
    "sm = nn.Softmax(dim=1).to(device)\n",
    "h_n, c_n = None, None\n",
    "\n",
    "class LSTMHA(nn.Module):\n",
    "\n",
    "    def __init__(self, nb_classes, input_size, hidden_size_lstm, hidden_size_classifier, num_layers, device):\n",
    "\n",
    "        super(LSTMHA, self).__init__()\n",
    "\n",
    "        self.num_classes = nb_classes\n",
    "        self.num_layers = num_layers\n",
    "        self.input_size = input_size\n",
    "        self.hidden_size = hidden_size_lstm\n",
    "        self.device = device\n",
    "\n",
    "        self.lstm = nn.LSTM(input_size=input_size, hidden_size=hidden_size_lstm, num_layers=num_layers, batch_first=True) # lstm\n",
    "        self.classifier = nn.Sequential(\n",
    "            nn.Linear(hidden_size_lstm, hidden_size_classifier),\n",
    "            nn.ReLU(),\n",
    "            nn.Linear(hidden_size_classifier, nb_classes)\n",
    "        )\n",
    "\n",
    "    def forward(self,x,h_0=None,c_0=None):\n",
    "        if h_0 is None:\n",
    "            h_0 = torch.rand(self.num_layers, x.size(0), self.hidden_size).to(self.device) # hidden state (short memory)\n",
    "            c_0 = torch.rand(self.num_layers, x.size(0), self.hidden_size).to(self.device) # internal state (long memory)\n",
    "        _, (h_n, c_n) = self.lstm(x, (h_0, c_0))\n",
    "        h_n_reshape = h_n[-1].reshape(1, h_n.shape[1], h_n.shape[2]).view(-1, self.hidden_size)\n",
    "        results = self.classifier(h_n_reshape) # reshaping the data for clasifier\n",
    "        return results, h_n, c_n"
   ]
  },
  {
   "cell_type": "code",
   "execution_count": 8,
   "metadata": {},
   "outputs": [
    {
     "data": {
      "text/plain": [
       "LSTMHA(\n",
       "  (lstm): LSTM(51, 256, batch_first=True)\n",
       "  (classifier): Sequential(\n",
       "    (0): Linear(in_features=256, out_features=128, bias=True)\n",
       "    (1): ReLU()\n",
       "    (2): Linear(in_features=128, out_features=9, bias=True)\n",
       "  )\n",
       ")"
      ]
     },
     "execution_count": 8,
     "metadata": {},
     "output_type": "execute_result"
    }
   ],
   "source": [
    "model_LSTMHA = LSTMHA(nb_classes=len(classes), input_size=3*17, hidden_size_lstm=256, hidden_size_classifier=128, num_layers=1, device=device)\n",
    "model_LSTMHA.to(device)\n",
    "model_LSTMHA.load_state_dict(torch.load(os.path.join(models_saved,\"LSTM03D_mmpose.pt\")))\n",
    "model_LSTMHA.eval()"
   ]
  },
  {
   "attachments": {},
   "cell_type": "markdown",
   "metadata": {},
   "source": [
    "What is the required input size already ?"
   ]
  },
  {
   "cell_type": "code",
   "execution_count": 9,
   "metadata": {},
   "outputs": [
    {
     "data": {
      "text/plain": [
       "51"
      ]
     },
     "execution_count": 9,
     "metadata": {},
     "output_type": "execute_result"
    }
   ],
   "source": [
    "model_LSTMHA.input_size"
   ]
  },
  {
   "attachments": {},
   "cell_type": "markdown",
   "metadata": {},
   "source": [
    "### Applying the model\n",
    "\n",
    "In the demo_from_3D.py there is alread a window display of the results.\n",
    "Here we are not interesting in that. We want the final output of the model about the skeleton data from a video."
   ]
  },
  {
   "cell_type": "code",
   "execution_count": 10,
   "metadata": {},
   "outputs": [
    {
     "data": {
      "text/plain": [
       "torch.Size([74, 17, 3])"
      ]
     },
     "execution_count": 10,
     "metadata": {},
     "output_type": "execute_result"
    }
   ],
   "source": [
    "sequence, label = HAD[0]\n",
    "sequence.shape"
   ]
  },
  {
   "cell_type": "code",
   "execution_count": 11,
   "metadata": {},
   "outputs": [],
   "source": [
    "x = sequence.reshape(74,1,3*17).to(device)\n",
    "h_n, c_n = None, None\n",
    "output, h_n, c_n = model_LSTMHA(x, h_n, c_n)"
   ]
  },
  {
   "cell_type": "code",
   "execution_count": 31,
   "metadata": {},
   "outputs": [
    {
     "data": {
      "text/plain": [
       "torch.Size([74, 9])"
      ]
     },
     "execution_count": 31,
     "metadata": {},
     "output_type": "execute_result"
    }
   ],
   "source": [
    "output.shape"
   ]
  },
  {
   "attachments": {},
   "cell_type": "markdown",
   "metadata": {},
   "source": [
    "We notice that what we get is a prediction for each frame inputed in the model.\\\n",
    "But why is that ? Does the prediction take into account what happened so far ?"
   ]
  },
  {
   "cell_type": "code",
   "execution_count": 12,
   "metadata": {},
   "outputs": [
    {
     "data": {
      "text/plain": [
       "torch.Size([74, 9])"
      ]
     },
     "execution_count": 12,
     "metadata": {},
     "output_type": "execute_result"
    }
   ],
   "source": [
    "prediction_arg = output.argmax().item()\n",
    "output.shape"
   ]
  },
  {
   "cell_type": "code",
   "execution_count": 30,
   "metadata": {},
   "outputs": [
    {
     "data": {
      "text/plain": [
       "(8, 'falling', 0, 'pickup')"
      ]
     },
     "execution_count": 30,
     "metadata": {},
     "output_type": "execute_result"
    }
   ],
   "source": [
    "prediction_arg%9, classes_names[prediction_arg%9], label, classes_names[label]"
   ]
  },
  {
   "attachments": {},
   "cell_type": "markdown",
   "metadata": {},
   "source": [
    "The \"highest\" prediction is not often the true label."
   ]
  }
 ],
 "metadata": {
  "kernelspec": {
   "display_name": "idemia",
   "language": "python",
   "name": "python3"
  },
  "language_info": {
   "codemirror_mode": {
    "name": "ipython",
    "version": 3
   },
   "file_extension": ".py",
   "mimetype": "text/x-python",
   "name": "python",
   "nbconvert_exporter": "python",
   "pygments_lexer": "ipython3",
   "version": "3.9.15"
  },
  "orig_nbformat": 4,
  "vscode": {
   "interpreter": {
    "hash": "69584c7593c8553a6eb878c549536baf582b4efc7fbb5080e5e5937f8c5bb9c8"
   }
  }
 },
 "nbformat": 4,
 "nbformat_minor": 2
}
