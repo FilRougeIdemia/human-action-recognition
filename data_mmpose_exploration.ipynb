{
 "cells": [
  {
   "cell_type": "markdown",
   "metadata": {},
   "source": [
    "# Idemia's data exploration\n",
    "Idemia provides keypoints on NTU videos found with mmpose. "
   ]
  },
  {
   "cell_type": "code",
   "execution_count": 2,
   "metadata": {},
   "outputs": [],
   "source": [
    "# imports\n",
    "import os\n",
    "import json\n",
    "import torch\n",
    "import numpy as np"
   ]
  },
  {
   "cell_type": "code",
   "execution_count": 3,
   "metadata": {},
   "outputs": [
    {
     "name": "stdout",
     "output_type": "stream",
     "text": [
      "device: cuda\n"
     ]
    }
   ],
   "source": [
    "# set device on GPU if available, else CPU\n",
    "device = torch.device('cuda' if torch.cuda.is_available() else 'cpu')\n",
    "print(\"device: {}\".format(device))"
   ]
  },
  {
   "cell_type": "code",
   "execution_count": 4,
   "metadata": {},
   "outputs": [],
   "source": [
    "# load data\n",
    "data_dir = \"data/preds/\"\n",
    "data_files = os.listdir(data_dir)"
   ]
  },
  {
   "cell_type": "markdown",
   "metadata": {},
   "source": [
    "---\n",
    "## First file discovery"
   ]
  },
  {
   "cell_type": "code",
   "execution_count": 11,
   "metadata": {},
   "outputs": [],
   "source": [
    "# Open the first file in the folder to check its format\n",
    "example_file = open(os.path.join(data_dir, data_files[0]))\n",
    "example = json.load(example_file)"
   ]
  },
  {
   "cell_type": "code",
   "execution_count": 16,
   "metadata": {},
   "outputs": [
    {
     "data": {
      "text/plain": [
       "dict_keys(['sequence_name', 'num_frames', 'frames'])"
      ]
     },
     "execution_count": 16,
     "metadata": {},
     "output_type": "execute_result"
    }
   ],
   "source": [
    "# keys of the output dict\n",
    "example.keys()"
   ]
  },
  {
   "cell_type": "code",
   "execution_count": 44,
   "metadata": {},
   "outputs": [
    {
     "data": {
      "text/plain": [
       "('S001C001P001R001A006_rgb', 75, list)"
      ]
     },
     "execution_count": 44,
     "metadata": {},
     "output_type": "execute_result"
    }
   ],
   "source": [
    "example['sequence_name'], example['num_frames'], type(example['frames'])"
   ]
  },
  {
   "cell_type": "markdown",
   "metadata": {},
   "source": [
    "### First frame"
   ]
  },
  {
   "cell_type": "code",
   "execution_count": 33,
   "metadata": {},
   "outputs": [
    {
     "name": "stdout",
     "output_type": "stream",
     "text": [
      "Keys for a frame dict : dict_keys(['id', 'num_pedestrians', 'detections'])\n"
     ]
    }
   ],
   "source": [
    "frame = example['frames'][0]\n",
    "frame_keys = frame.keys()\n",
    "print(f'Keys for a frame dict : {frame_keys}')"
   ]
  },
  {
   "cell_type": "code",
   "execution_count": 39,
   "metadata": {},
   "outputs": [
    {
     "name": "stdout",
     "output_type": "stream",
     "text": [
      "Frame id and number of pedestrians (0, 1)\n"
     ]
    }
   ],
   "source": [
    "id = frame['id']\n",
    "num_pedestrians = frame['num_pedestrians']\n",
    "print(f'Frame id and number of pedestrians {id, num_pedestrians}')"
   ]
  },
  {
   "cell_type": "code",
   "execution_count": 45,
   "metadata": {},
   "outputs": [
    {
     "data": {
      "text/plain": [
       "(list, 1)"
      ]
     },
     "execution_count": 45,
     "metadata": {},
     "output_type": "execute_result"
    }
   ],
   "source": [
    "detections = frame['detections']\n",
    "type(detections), len(detections), "
   ]
  },
  {
   "cell_type": "code",
   "execution_count": 50,
   "metadata": {},
   "outputs": [
    {
     "name": "stdout",
     "output_type": "stream",
     "text": [
      "Keys for a pedestrian frame : dict_keys(['keypoints', 'keypoints_3d', 'bbox', 'pedestrian_id'])\n"
     ]
    }
   ],
   "source": [
    "pedestrian_frame = detections[0]\n",
    "print(f'Keys for a pedestrian frame : {pedestrian_frame.keys()}')"
   ]
  },
  {
   "cell_type": "code",
   "execution_count": 60,
   "metadata": {},
   "outputs": [
    {
     "name": "stdout",
     "output_type": "stream",
     "text": [
      "For the pedestrian 0, its bounding box is [965.721923828125, 282.98504638671875, 1099.129150390625, 750.9996948242188, 0.9992368221282959].\n"
     ]
    }
   ],
   "source": [
    "pedestrian = pedestrian_frame['pedestrian_id']\n",
    "bbox = pedestrian_frame['bbox']\n",
    "print(f'For the pedestrian {pedestrian}, its bounding box is {bbox}.')"
   ]
  },
  {
   "cell_type": "markdown",
   "metadata": {},
   "source": [
    "The number of value for the bounding box is quite surprising.\\\n",
    "According to the documentation the values corresponds to left, right, top, bottom, [score].\\\n",
    "Seems like (0,0) is in the bottom right corner. \n",
    "The score might be a certainty value for the bounding box (see the use of the word score in https://mmpose.readthedocs.io/en/latest/api.html)."
   ]
  },
  {
   "cell_type": "code",
   "execution_count": 73,
   "metadata": {},
   "outputs": [
    {
     "name": "stdout",
     "output_type": "stream",
     "text": [
      "There are 17 keypoints, each represented with 3 values.\n",
      "It appears the last one is the score and the other two the coordinates.\n"
     ]
    },
    {
     "data": {
      "text/plain": [
       "[[1032.425537109375, 512.4219360351562, 0.8548943400382996],\n",
       " [1009.5732421875, 509.3749694824219, 0.8316577076911926],\n",
       " [1024.80810546875, 612.971923828125, 0.8380324840545654]]"
      ]
     },
     "execution_count": 73,
     "metadata": {},
     "output_type": "execute_result"
    }
   ],
   "source": [
    "keypoints = pedestrian_frame['keypoints']\n",
    "print(f'There are {len(keypoints)} keypoints, each represented with {len(keypoints[0])} values.')\n",
    "print('It appears the last one is the score and the other two the coordinates.')\n",
    "keypoints[:3]"
   ]
  },
  {
   "cell_type": "code",
   "execution_count": 74,
   "metadata": {},
   "outputs": [
    {
     "name": "stdout",
     "output_type": "stream",
     "text": [
      "There are 17 keypoints, each represented with 3 values.\n",
      "This time, some values look like coordinates inside the bounding box.\n"
     ]
    },
    {
     "data": {
      "text/plain": [
       "[[0.0001173038617707789, -4.1300940210931e-05, 0.5898646116256714],\n",
       " [0.09304507821798325, 0.015636632218956947, 0.5885741114616394],\n",
       " [0.032809868454933167, -0.16433845460414886, 0.2869519293308258]]"
      ]
     },
     "execution_count": 74,
     "metadata": {},
     "output_type": "execute_result"
    }
   ],
   "source": [
    "keypoints_3d = pedestrian_frame['keypoints_3d']\n",
    "print(f'There are {len(keypoints_3d)} keypoints, each represented with {len(keypoints_3d[0])} values.')\n",
    "print('This time, some values look like coordinates inside the bounding box.')\n",
    "keypoints_3d[:3]\n"
   ]
  },
  {
   "cell_type": "markdown",
   "metadata": {},
   "source": [
    "### Code study\n",
    "\n",
    "To know more about how mmpose computes the predictions, and understand its results."
   ]
  },
  {
   "attachments": {},
   "cell_type": "markdown",
   "metadata": {},
   "source": [
    "## Compare with NTU original skeleton data"
   ]
  },
  {
   "cell_type": "code",
   "execution_count": 1,
   "metadata": {},
   "outputs": [],
   "source": [
    "data2D_dir = \"data/nturgbd60_skeletons_2D/\"\n",
    "data2D_files = os.listdir(data2D_dir)"
   ]
  },
  {
   "cell_type": "code",
   "execution_count": 3,
   "metadata": {},
   "outputs": [],
   "source": [
    "file0 = np.load(os.path.join(data2D_dir, data2D_files[0]))"
   ]
  },
  {
   "cell_type": "code",
   "execution_count": 13,
   "metadata": {},
   "outputs": [
    {
     "name": "stdout",
     "output_type": "stream",
     "text": [
      "Looks like the file structure is number of frames * number of joints * number of coordinates (103, 25, 2)\n"
     ]
    }
   ],
   "source": [
    "print(f'Looks like the file structure is number of frames * number of joints * number of coordinates {file0.shape}')"
   ]
  },
  {
   "attachments": {},
   "cell_type": "markdown",
   "metadata": {},
   "source": [
    "One can check that by opening the corresponding .skeleton file. And compare the coordinates to the 6th and 7th columns of a skeleton block. "
   ]
  },
  {
   "attachments": {},
   "cell_type": "markdown",
   "metadata": {},
   "source": [
    "### Transform from mmpose format to original"
   ]
  },
  {
   "cell_type": "code",
   "execution_count": 32,
   "metadata": {},
   "outputs": [],
   "source": [
    "incomplete_files = []\n",
    "for file_name in data_files:\n",
    "    with open(os.path.join(data_dir, file_name)) as f:\n",
    "        skeleton_file = json.load(f)\n",
    "        try:\n",
    "            num_frames = skeleton_file['num_frames']\n",
    "            nb_joints = len(skeleton_file['frames'][0]['detections'][0]['keypoints'])\n",
    "            nb_persons = skeleton_file['frames'][0]['num_pedestrians']\n",
    "            for person in range(nb_persons):\n",
    "                data = np.zeros((num_frames, nb_joints, 2))\n",
    "                for i_frame, frame in enumerate(skeleton_file['frames']):\n",
    "                    data[i_frame] = np.array(frame['detections'][person]['keypoints'])[:, 0:2]\n",
    "                np.save(os.path.join('data', 'mmpose_ntu', file_name[:-5]+f'_person{person}.npy'), data)\n",
    "        except IndexError:\n",
    "            incomplete_files.append(file_name)\n",
    "            continue"
   ]
  },
  {
   "cell_type": "code",
   "execution_count": 33,
   "metadata": {},
   "outputs": [
    {
     "data": {
      "text/plain": [
       "663"
      ]
     },
     "execution_count": 33,
     "metadata": {},
     "output_type": "execute_result"
    }
   ],
   "source": [
    "len(incomplete_files)"
   ]
  }
 ],
 "metadata": {
  "kernelspec": {
   "display_name": "Python 3.9.15 ('idemia')",
   "language": "python",
   "name": "python3"
  },
  "language_info": {
   "codemirror_mode": {
    "name": "ipython",
    "version": 3
   },
   "file_extension": ".py",
   "mimetype": "text/x-python",
   "name": "python",
   "nbconvert_exporter": "python",
   "pygments_lexer": "ipython3",
   "version": "3.9.15"
  },
  "orig_nbformat": 4,
  "vscode": {
   "interpreter": {
    "hash": "69584c7593c8553a6eb878c549536baf582b4efc7fbb5080e5e5937f8c5bb9c8"
   }
  }
 },
 "nbformat": 4,
 "nbformat_minor": 2
}
